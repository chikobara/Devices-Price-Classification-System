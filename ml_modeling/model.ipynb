{
 "cells": [
  {
   "cell_type": "markdown",
   "metadata": {},
   "source": [
    "### Importing libraries"
   ]
  },
  {
   "cell_type": "code",
   "execution_count": 9,
   "metadata": {},
   "outputs": [],
   "source": [
    "import pandas as pd\n",
    "import numpy as np\n",
    "import matplotlib.pyplot as plt\n",
    "from sklearn.metrics import classification_report, confusion_matrix, accuracy_score"
   ]
  },
  {
   "cell_type": "markdown",
   "metadata": {},
   "source": [
    "### Loading the data sets"
   ]
  },
  {
   "cell_type": "code",
   "execution_count": 10,
   "metadata": {},
   "outputs": [
    {
     "data": {
      "text/html": [
       "<div>\n",
       "<style scoped>\n",
       "    .dataframe tbody tr th:only-of-type {\n",
       "        vertical-align: middle;\n",
       "    }\n",
       "\n",
       "    .dataframe tbody tr th {\n",
       "        vertical-align: top;\n",
       "    }\n",
       "\n",
       "    .dataframe thead th {\n",
       "        text-align: right;\n",
       "    }\n",
       "</style>\n",
       "<table border=\"1\" class=\"dataframe\">\n",
       "  <thead>\n",
       "    <tr style=\"text-align: right;\">\n",
       "      <th></th>\n",
       "      <th>battery_power</th>\n",
       "      <th>blue</th>\n",
       "      <th>clock_speed</th>\n",
       "      <th>dual_sim</th>\n",
       "      <th>fc</th>\n",
       "      <th>four_g</th>\n",
       "      <th>int_memory</th>\n",
       "      <th>m_dep</th>\n",
       "      <th>mobile_wt</th>\n",
       "      <th>n_cores</th>\n",
       "      <th>...</th>\n",
       "      <th>touch_screen</th>\n",
       "      <th>wifi</th>\n",
       "      <th>price_range</th>\n",
       "      <th>screen_area</th>\n",
       "      <th>log_ram</th>\n",
       "      <th>log_battery_power</th>\n",
       "      <th>log_int_memory</th>\n",
       "      <th>battery_power_bin</th>\n",
       "      <th>ram_bin</th>\n",
       "      <th>int_memory_bin</th>\n",
       "    </tr>\n",
       "  </thead>\n",
       "  <tbody>\n",
       "    <tr>\n",
       "      <th>0</th>\n",
       "      <td>-0.902597</td>\n",
       "      <td>0</td>\n",
       "      <td>0.830779</td>\n",
       "      <td>0</td>\n",
       "      <td>-0.764629</td>\n",
       "      <td>0.0</td>\n",
       "      <td>-1.382405</td>\n",
       "      <td>0.339276</td>\n",
       "      <td>1.350676</td>\n",
       "      <td>-1.101463</td>\n",
       "      <td>...</td>\n",
       "      <td>0</td>\n",
       "      <td>1</td>\n",
       "      <td>1</td>\n",
       "      <td>63.0</td>\n",
       "      <td>7.843849</td>\n",
       "      <td>6.736967</td>\n",
       "      <td>2.079442</td>\n",
       "      <td>0</td>\n",
       "      <td>2</td>\n",
       "      <td>0</td>\n",
       "    </tr>\n",
       "    <tr>\n",
       "      <th>1</th>\n",
       "      <td>-0.495139</td>\n",
       "      <td>1</td>\n",
       "      <td>-1.253064</td>\n",
       "      <td>1</td>\n",
       "      <td>-0.995615</td>\n",
       "      <td>1.0</td>\n",
       "      <td>1.156334</td>\n",
       "      <td>0.686381</td>\n",
       "      <td>-0.120727</td>\n",
       "      <td>-0.664034</td>\n",
       "      <td>...</td>\n",
       "      <td>1</td>\n",
       "      <td>0</td>\n",
       "      <td>2</td>\n",
       "      <td>51.0</td>\n",
       "      <td>7.875499</td>\n",
       "      <td>6.929517</td>\n",
       "      <td>3.988984</td>\n",
       "      <td>1</td>\n",
       "      <td>2</td>\n",
       "      <td>3</td>\n",
       "    </tr>\n",
       "    <tr>\n",
       "      <th>2</th>\n",
       "      <td>-1.537686</td>\n",
       "      <td>1</td>\n",
       "      <td>-1.253064</td>\n",
       "      <td>1</td>\n",
       "      <td>-0.533642</td>\n",
       "      <td>1.0</td>\n",
       "      <td>0.494054</td>\n",
       "      <td>1.380591</td>\n",
       "      <td>0.133939</td>\n",
       "      <td>0.210825</td>\n",
       "      <td>...</td>\n",
       "      <td>1</td>\n",
       "      <td>0</td>\n",
       "      <td>2</td>\n",
       "      <td>22.0</td>\n",
       "      <td>7.864804</td>\n",
       "      <td>6.335054</td>\n",
       "      <td>3.737670</td>\n",
       "      <td>0</td>\n",
       "      <td>2</td>\n",
       "      <td>2</td>\n",
       "    </tr>\n",
       "    <tr>\n",
       "      <th>3</th>\n",
       "      <td>-1.419319</td>\n",
       "      <td>1</td>\n",
       "      <td>1.198517</td>\n",
       "      <td>0</td>\n",
       "      <td>-0.995615</td>\n",
       "      <td>0.0</td>\n",
       "      <td>-1.216835</td>\n",
       "      <td>1.033486</td>\n",
       "      <td>-0.262208</td>\n",
       "      <td>0.648255</td>\n",
       "      <td>...</td>\n",
       "      <td>0</td>\n",
       "      <td>0</td>\n",
       "      <td>2</td>\n",
       "      <td>128.0</td>\n",
       "      <td>7.926603</td>\n",
       "      <td>6.423247</td>\n",
       "      <td>2.397895</td>\n",
       "      <td>0</td>\n",
       "      <td>2</td>\n",
       "      <td>0</td>\n",
       "    </tr>\n",
       "    <tr>\n",
       "      <th>4</th>\n",
       "      <td>1.325906</td>\n",
       "      <td>1</td>\n",
       "      <td>-0.395011</td>\n",
       "      <td>0</td>\n",
       "      <td>2.007209</td>\n",
       "      <td>1.0</td>\n",
       "      <td>0.659624</td>\n",
       "      <td>0.339276</td>\n",
       "      <td>0.020754</td>\n",
       "      <td>-1.101463</td>\n",
       "      <td>...</td>\n",
       "      <td>1</td>\n",
       "      <td>0</td>\n",
       "      <td>1</td>\n",
       "      <td>16.0</td>\n",
       "      <td>7.252762</td>\n",
       "      <td>7.507690</td>\n",
       "      <td>3.806662</td>\n",
       "      <td>3</td>\n",
       "      <td>1</td>\n",
       "      <td>2</td>\n",
       "    </tr>\n",
       "  </tbody>\n",
       "</table>\n",
       "<p>5 rows × 28 columns</p>\n",
       "</div>"
      ],
      "text/plain": [
       "   battery_power  blue  clock_speed  dual_sim        fc  four_g  int_memory  \\\n",
       "0      -0.902597     0     0.830779         0 -0.764629     0.0   -1.382405   \n",
       "1      -0.495139     1    -1.253064         1 -0.995615     1.0    1.156334   \n",
       "2      -1.537686     1    -1.253064         1 -0.533642     1.0    0.494054   \n",
       "3      -1.419319     1     1.198517         0 -0.995615     0.0   -1.216835   \n",
       "4       1.325906     1    -0.395011         0  2.007209     1.0    0.659624   \n",
       "\n",
       "      m_dep  mobile_wt   n_cores  ...  touch_screen  wifi  price_range  \\\n",
       "0  0.339276   1.350676 -1.101463  ...             0     1            1   \n",
       "1  0.686381  -0.120727 -0.664034  ...             1     0            2   \n",
       "2  1.380591   0.133939  0.210825  ...             1     0            2   \n",
       "3  1.033486  -0.262208  0.648255  ...             0     0            2   \n",
       "4  0.339276   0.020754 -1.101463  ...             1     0            1   \n",
       "\n",
       "   screen_area   log_ram  log_battery_power  log_int_memory  \\\n",
       "0         63.0  7.843849           6.736967        2.079442   \n",
       "1         51.0  7.875499           6.929517        3.988984   \n",
       "2         22.0  7.864804           6.335054        3.737670   \n",
       "3        128.0  7.926603           6.423247        2.397895   \n",
       "4         16.0  7.252762           7.507690        3.806662   \n",
       "\n",
       "   battery_power_bin  ram_bin  int_memory_bin  \n",
       "0                  0        2               0  \n",
       "1                  1        2               3  \n",
       "2                  0        2               2  \n",
       "3                  0        2               0  \n",
       "4                  3        1               2  \n",
       "\n",
       "[5 rows x 28 columns]"
      ]
     },
     "execution_count": 10,
     "metadata": {},
     "output_type": "execute_result"
    }
   ],
   "source": [
    "train_data = pd.read_csv(\"../dataset/cleaned_train_data.csv\")\n",
    "train_data.head()"
   ]
  },
  {
   "cell_type": "code",
   "execution_count": 11,
   "metadata": {},
   "outputs": [
    {
     "data": {
      "text/plain": [
       "(2000, 28)"
      ]
     },
     "execution_count": 11,
     "metadata": {},
     "output_type": "execute_result"
    }
   ],
   "source": [
    "train_data.shape"
   ]
  },
  {
   "cell_type": "code",
   "execution_count": 12,
   "metadata": {},
   "outputs": [
    {
     "name": "stdout",
     "output_type": "stream",
     "text": [
      "Train set: (1600, 27) (1600,)\n",
      "Test set: (400, 27) (400,)\n"
     ]
    }
   ],
   "source": [
    "from sklearn.model_selection import train_test_split\n",
    "\n",
    "X = train_data.drop([\"price_range\"], axis=1)\n",
    "y = train_data[\"price_range\"]\n",
    "\n",
    "X_train, X_test, y_train, y_test = train_test_split(X, y, test_size=0.2, random_state=4)\n",
    "\n",
    "print(\"Train set:\", X_train.shape, y_train.shape)\n",
    "print(\"Test set:\", X_test.shape, y_test.shape)"
   ]
  },
  {
   "cell_type": "markdown",
   "metadata": {},
   "source": [
    "# Using Logistic Regression"
   ]
  },
  {
   "cell_type": "code",
   "execution_count": 13,
   "metadata": {},
   "outputs": [
    {
     "name": "stdout",
     "output_type": "stream",
     "text": [
      "Accuracy of Logistic regression classifier on train set: 0.88375\n",
      "Accuracy of Logistic regression classifier on test set: 0.86\n"
     ]
    },
    {
     "name": "stderr",
     "output_type": "stream",
     "text": [
      "/mnt/fb4bc2b8-9f74-40f5-9b49-feddd62ae258/chikobara_github/Devices-Price-Classification-System/.venv/lib/python3.12/site-packages/sklearn/linear_model/_logistic.py:469: ConvergenceWarning: lbfgs failed to converge (status=1):\n",
      "STOP: TOTAL NO. of ITERATIONS REACHED LIMIT.\n",
      "\n",
      "Increase the number of iterations (max_iter) or scale the data as shown in:\n",
      "    https://scikit-learn.org/stable/modules/preprocessing.html\n",
      "Please also refer to the documentation for alternative solver options:\n",
      "    https://scikit-learn.org/stable/modules/linear_model.html#logistic-regression\n",
      "  n_iter_i = _check_optimize_result(\n"
     ]
    }
   ],
   "source": [
    "from sklearn.linear_model import LogisticRegression\n",
    "\n",
    "LR = LogisticRegression().fit(X_train, y_train)\n",
    "\n",
    "print(\n",
    "    \"Accuracy of Logistic regression classifier on train set:\",\n",
    "    LR.score(X_train, y_train),\n",
    ")\n",
    "print(\n",
    "    \"Accuracy of Logistic regression classifier on test set:\", LR.score(X_test, y_test)\n",
    ")"
   ]
  },
  {
   "cell_type": "markdown",
   "metadata": {},
   "source": [
    "# Using Random Forest Classifier"
   ]
  },
  {
   "cell_type": "code",
   "execution_count": 14,
   "metadata": {},
   "outputs": [
    {
     "name": "stdout",
     "output_type": "stream",
     "text": [
      "[[ 99   7   0   0]\n",
      " [  4  89   8   0]\n",
      " [  0   8  74   5]\n",
      " [  0   0   6 100]]\n",
      "              precision    recall  f1-score   support\n",
      "\n",
      "           0       0.96      0.93      0.95       106\n",
      "           1       0.86      0.88      0.87       101\n",
      "           2       0.84      0.85      0.85        87\n",
      "           3       0.95      0.94      0.95       106\n",
      "\n",
      "    accuracy                           0.91       400\n",
      "   macro avg       0.90      0.90      0.90       400\n",
      "weighted avg       0.91      0.91      0.91       400\n",
      "\n"
     ]
    }
   ],
   "source": [
    "from sklearn.ensemble import RandomForestClassifier\n",
    "\n",
    "# Train a RandomForestClassifier\n",
    "model = RandomForestClassifier(random_state=4)\n",
    "model.fit(X_train, y_train)\n",
    "\n",
    "# Predictions and Evaluation\n",
    "y_pred = model.predict(X_test)\n",
    "print(confusion_matrix(y_test, y_pred))\n",
    "print(classification_report(y_test, y_pred))"
   ]
  },
  {
   "cell_type": "markdown",
   "metadata": {},
   "source": [
    "# Using Support Vector Machines"
   ]
  },
  {
   "cell_type": "code",
   "execution_count": 15,
   "metadata": {},
   "outputs": [
    {
     "name": "stdout",
     "output_type": "stream",
     "text": [
      "Accuracy on training set: 0.97\n",
      "Accuracy on test set: 0.96\n",
      "[[102   4   0   0]\n",
      " [  2  99   0   0]\n",
      " [  0   3  82   2]\n",
      " [  0   0   5 101]]\n",
      "              precision    recall  f1-score   support\n",
      "\n",
      "           0       0.98      0.96      0.97       106\n",
      "           1       0.93      0.98      0.96       101\n",
      "           2       0.94      0.94      0.94        87\n",
      "           3       0.98      0.95      0.97       106\n",
      "\n",
      "    accuracy                           0.96       400\n",
      "   macro avg       0.96      0.96      0.96       400\n",
      "weighted avg       0.96      0.96      0.96       400\n",
      "\n"
     ]
    }
   ],
   "source": [
    "from sklearn.svm import SVC\n",
    "\n",
    "clf = SVC(kernel=\"linear\").fit(X_train, y_train)\n",
    "\n",
    "\n",
    "print(\"Accuracy on training set: {:.2f}\".format(clf.score(X_train, y_train)))\n",
    "print(\"Accuracy on test set: {:.2f}\".format(clf.score(X_test, y_test)))\n",
    "\n",
    "y_pred_linear = clf.predict(X_test)\n",
    "print(confusion_matrix(y_test, y_pred_linear))\n",
    "print(classification_report(y_test, y_pred_linear))"
   ]
  },
  {
   "cell_type": "code",
   "execution_count": 17,
   "metadata": {},
   "outputs": [
    {
     "data": {
      "text/plain": [
       "['svc_model.pkl']"
      ]
     },
     "execution_count": 17,
     "metadata": {},
     "output_type": "execute_result"
    }
   ],
   "source": [
    "import joblib\n",
    "\n",
    "joblib.dump(clf, \"svc_model.pkl\")"
   ]
  }
 ],
 "metadata": {
  "kernelspec": {
   "display_name": ".venv",
   "language": "python",
   "name": "python3"
  },
  "language_info": {
   "codemirror_mode": {
    "name": "ipython",
    "version": 3
   },
   "file_extension": ".py",
   "mimetype": "text/x-python",
   "name": "python",
   "nbconvert_exporter": "python",
   "pygments_lexer": "ipython3",
   "version": "3.12.6"
  }
 },
 "nbformat": 4,
 "nbformat_minor": 2
}
